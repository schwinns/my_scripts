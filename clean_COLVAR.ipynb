{
 "cells": [
  {
   "cell_type": "code",
   "execution_count": 2,
   "metadata": {},
   "outputs": [],
   "source": [
    "import numpy as np\n"
   ]
  },
  {
   "cell_type": "code",
   "execution_count": 6,
   "metadata": {},
   "outputs": [],
   "source": [
    "t_restart = 77518.36\n",
    "i = 8"
   ]
  },
  {
   "cell_type": "code",
   "execution_count": 7,
   "metadata": {},
   "outputs": [
    {
     "name": "stdout",
     "output_type": "stream",
     "text": [
      "old: (5103715, 5)\n",
      "new: (5000001, 5)\n"
     ]
    }
   ],
   "source": [
    "data = np.loadtxt(f'COLVAR_{i}', comments='#')\n",
    "print('old:', data.shape)\n",
    "idx = np.where(data[:,0] == t_restart)[0]\n",
    "new1 = data[:idx[0],:]\n",
    "new2 = data[idx[1]:,:]\n",
    "np.savetxt(f'COLVAR_{i}', np.vstack([new1,new2]), header='! FIELDS time n t r.bias r.force2', fmt='%.6f')\n",
    "data = np.loadtxt(f'COLVAR_{i}', comments='#')\n",
    "print('new:', data.shape)"
   ]
  },
  {
   "cell_type": "code",
   "execution_count": null,
   "metadata": {},
   "outputs": [],
   "source": []
  }
 ],
 "metadata": {
  "kernelspec": {
   "display_name": "mbar",
   "language": "python",
   "name": "python3"
  },
  "language_info": {
   "codemirror_mode": {
    "name": "ipython",
    "version": 3
   },
   "file_extension": ".py",
   "mimetype": "text/x-python",
   "name": "python",
   "nbconvert_exporter": "python",
   "pygments_lexer": "ipython3",
   "version": "3.11.7"
  }
 },
 "nbformat": 4,
 "nbformat_minor": 2
}
